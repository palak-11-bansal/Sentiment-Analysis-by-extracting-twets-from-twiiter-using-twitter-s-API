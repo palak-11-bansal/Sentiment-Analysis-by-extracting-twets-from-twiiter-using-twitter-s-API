{
 "cells": [
  {
   "cell_type": "code",
   "execution_count": 1,
   "metadata": {},
   "outputs": [],
   "source": [
    "!pip install flair\n"
   ]
  },
  {
   "cell_type": "code",
   "execution_count": 2,
   "metadata": {},
   "outputs": [],
   "source": [
    "import pandas as pd\n",
    "pd.set_option('display.max_colwidth', None)\n",
    "import flair"
   ]
  },
  {
   "cell_type": "code",
   "execution_count": 3,
   "metadata": {},
   "outputs": [
    {
     "name": "stdout",
     "output_type": "stream",
     "text": [
      "2021-04-15 17:34:36,528 loading file C:\\Users\\HP\\.flair\\models\\sentiment-en-mix-distillbert_4.pt\n"
     ]
    }
   ],
   "source": [
    "sentiment_model = flair.models.TextClassifier.load('en-sentiment')"
   ]
  },
  {
   "cell_type": "code",
   "execution_count": 4,
   "metadata": {},
   "outputs": [
    {
     "data": {
      "text/html": [
       "<div>\n",
       "<style scoped>\n",
       "    .dataframe tbody tr th:only-of-type {\n",
       "        vertical-align: middle;\n",
       "    }\n",
       "\n",
       "    .dataframe tbody tr th {\n",
       "        vertical-align: top;\n",
       "    }\n",
       "\n",
       "    .dataframe thead th {\n",
       "        text-align: right;\n",
       "    }\n",
       "</style>\n",
       "<table border=\"1\" class=\"dataframe\">\n",
       "  <thead>\n",
       "    <tr style=\"text-align: right;\">\n",
       "      <th></th>\n",
       "      <th>tweets</th>\n",
       "      <th>likes</th>\n",
       "      <th>time</th>\n",
       "    </tr>\n",
       "  </thead>\n",
       "  <tbody>\n",
       "    <tr>\n",
       "      <th>0</th>\n",
       "      <td>Panic Selling Increases Amid Fears of a Second Wave of Covid.\\n#COVID19 #nifty50 #bearish #StockMarket https://t.co/7VskYFcibb</td>\n",
       "      <td>0</td>\n",
       "      <td>Mon Apr 12 10:02:18 +0000 2021</td>\n",
       "    </tr>\n",
       "    <tr>\n",
       "      <th>1</th>\n",
       "      <td>#Karnataka chief minister is adding fuel to fire by suggesting that Karnataka Govt will also consider completeâ€¦ https://t.co/0JOnFwMJRt</td>\n",
       "      <td>2</td>\n",
       "      <td>Mon Apr 12 10:01:14 +0000 2021</td>\n",
       "    </tr>\n",
       "    <tr>\n",
       "      <th>2</th>\n",
       "      <td>@narendramodi ji and @AmitShah your this greed of power will take life of many doctors , health workers,  securityâ€¦ https://t.co/qInLaWmquf</td>\n",
       "      <td>0</td>\n",
       "      <td>Mon Apr 12 07:33:06 +0000 2021</td>\n",
       "    </tr>\n",
       "    <tr>\n",
       "      <th>3</th>\n",
       "      <td>#Sensex experiencing the #Lockdown blues again. #BSE down 1300 points and #banknifty is down 4%. https://t.co/3JL2LB7Fg4</td>\n",
       "      <td>3</td>\n",
       "      <td>Mon Apr 12 04:51:27 +0000 2021</td>\n",
       "    </tr>\n",
       "    <tr>\n",
       "      <th>4</th>\n",
       "      <td>@satishjha @zoo_bear @DeccanHerald Why is there such a craze for Remsdesivir when all expert agencies, including WHâ€¦ https://t.co/cY1EpVeDQ6</td>\n",
       "      <td>3</td>\n",
       "      <td>Mon Apr 12 04:42:57 +0000 2021</td>\n",
       "    </tr>\n",
       "  </tbody>\n",
       "</table>\n",
       "</div>"
      ],
      "text/plain": [
       "                                                                                                                                           tweets  \\\n",
       "0                  Panic Selling Increases Amid Fears of a Second Wave of Covid.\\n#COVID19 #nifty50 #bearish #StockMarket https://t.co/7VskYFcibb   \n",
       "1       #Karnataka chief minister is adding fuel to fire by suggesting that Karnataka Govt will also consider completeâ€¦ https://t.co/0JOnFwMJRt   \n",
       "2   @narendramodi ji and @AmitShah your this greed of power will take life of many doctors , health workers,  securityâ€¦ https://t.co/qInLaWmquf   \n",
       "3                        #Sensex experiencing the #Lockdown blues again. #BSE down 1300 points and #banknifty is down 4%. https://t.co/3JL2LB7Fg4   \n",
       "4  @satishjha @zoo_bear @DeccanHerald Why is there such a craze for Remsdesivir when all expert agencies, including WHâ€¦ https://t.co/cY1EpVeDQ6   \n",
       "\n",
       "   likes                            time  \n",
       "0      0  Mon Apr 12 10:02:18 +0000 2021  \n",
       "1      2  Mon Apr 12 10:01:14 +0000 2021  \n",
       "2      0  Mon Apr 12 07:33:06 +0000 2021  \n",
       "3      3  Mon Apr 12 04:51:27 +0000 2021  \n",
       "4      3  Mon Apr 12 04:42:57 +0000 2021  "
      ]
     },
     "execution_count": 4,
     "metadata": {},
     "output_type": "execute_result"
    }
   ],
   "source": [
    "df= pd.read_excel('datasop.xlsx')#filename which contains dataset\n",
    "df.head()"
   ]
  },
  {
   "cell_type": "code",
   "execution_count": 5,
   "metadata": {},
   "outputs": [],
   "source": [
    "sentiment = []\n",
    "\n",
    "confidence = []\n",
    "\n",
    "for sentence in df['tweets']:\n",
    "    if sentence.strip()==\"\":\n",
    "        sentiment.append(\"\")\n",
    "        confidence.append(\"\")\n",
    "\n",
    "    else:\n",
    "        sample= flair.data. Sentence(sentence)\n",
    "        sentiment_model.predict(sample)\n",
    "        sentiment.append(sample.labels[0].value)\n",
    "        confidence.append(sample.labels[0].score)"
   ]
  },
  {
   "cell_type": "code",
   "execution_count": 6,
   "metadata": {},
   "outputs": [],
   "source": [
    "df['sentiment']=sentiment\n",
    "df['confidence']=confidence"
   ]
  },
  {
   "cell_type": "code",
   "execution_count": 7,
   "metadata": {},
   "outputs": [
    {
     "data": {
      "text/html": [
       "<div>\n",
       "<style scoped>\n",
       "    .dataframe tbody tr th:only-of-type {\n",
       "        vertical-align: middle;\n",
       "    }\n",
       "\n",
       "    .dataframe tbody tr th {\n",
       "        vertical-align: top;\n",
       "    }\n",
       "\n",
       "    .dataframe thead th {\n",
       "        text-align: right;\n",
       "    }\n",
       "</style>\n",
       "<table border=\"1\" class=\"dataframe\">\n",
       "  <thead>\n",
       "    <tr style=\"text-align: right;\">\n",
       "      <th></th>\n",
       "      <th>tweets</th>\n",
       "      <th>likes</th>\n",
       "      <th>time</th>\n",
       "      <th>sentiment</th>\n",
       "      <th>confidence</th>\n",
       "    </tr>\n",
       "  </thead>\n",
       "  <tbody>\n",
       "    <tr>\n",
       "      <th>0</th>\n",
       "      <td>Panic Selling Increases Amid Fears of a Second Wave of Covid.\\n#COVID19 #nifty50 #bearish #StockMarket https://t.co/7VskYFcibb</td>\n",
       "      <td>0</td>\n",
       "      <td>Mon Apr 12 10:02:18 +0000 2021</td>\n",
       "      <td>NEGATIVE</td>\n",
       "      <td>0.940053</td>\n",
       "    </tr>\n",
       "    <tr>\n",
       "      <th>1</th>\n",
       "      <td>#Karnataka chief minister is adding fuel to fire by suggesting that Karnataka Govt will also consider completeâ€¦ https://t.co/0JOnFwMJRt</td>\n",
       "      <td>2</td>\n",
       "      <td>Mon Apr 12 10:01:14 +0000 2021</td>\n",
       "      <td>NEGATIVE</td>\n",
       "      <td>0.999161</td>\n",
       "    </tr>\n",
       "    <tr>\n",
       "      <th>2</th>\n",
       "      <td>@narendramodi ji and @AmitShah your this greed of power will take life of many doctors , health workers,  securityâ€¦ https://t.co/qInLaWmquf</td>\n",
       "      <td>0</td>\n",
       "      <td>Mon Apr 12 07:33:06 +0000 2021</td>\n",
       "      <td>POSITIVE</td>\n",
       "      <td>0.805817</td>\n",
       "    </tr>\n",
       "    <tr>\n",
       "      <th>3</th>\n",
       "      <td>#Sensex experiencing the #Lockdown blues again. #BSE down 1300 points and #banknifty is down 4%. https://t.co/3JL2LB7Fg4</td>\n",
       "      <td>3</td>\n",
       "      <td>Mon Apr 12 04:51:27 +0000 2021</td>\n",
       "      <td>NEGATIVE</td>\n",
       "      <td>0.921899</td>\n",
       "    </tr>\n",
       "    <tr>\n",
       "      <th>4</th>\n",
       "      <td>@satishjha @zoo_bear @DeccanHerald Why is there such a craze for Remsdesivir when all expert agencies, including WHâ€¦ https://t.co/cY1EpVeDQ6</td>\n",
       "      <td>3</td>\n",
       "      <td>Mon Apr 12 04:42:57 +0000 2021</td>\n",
       "      <td>POSITIVE</td>\n",
       "      <td>0.884717</td>\n",
       "    </tr>\n",
       "    <tr>\n",
       "      <th>...</th>\n",
       "      <td>...</td>\n",
       "      <td>...</td>\n",
       "      <td>...</td>\n",
       "      <td>...</td>\n",
       "      <td>...</td>\n",
       "    </tr>\n",
       "    <tr>\n",
       "      <th>623</th>\n",
       "      <td>Now is the time for @WHO to tell that the world is at stake with the new #Coronavirus #CoronavirusWho please donâ€™tâ€¦ https://t.co/OJg9zuv74G</td>\n",
       "      <td>0</td>\n",
       "      <td>Thu Jan 30 07:27:24 +0000 2020</td>\n",
       "      <td>NEGATIVE</td>\n",
       "      <td>0.642913</td>\n",
       "    </tr>\n",
       "    <tr>\n",
       "      <th>624</th>\n",
       "      <td>Mix your rock and desi persona with this Fusion lookðŸ’¢ðŸ’¢\\n#instafashion #fashionistas #fashionkillaâ€¦ https://t.co/DW61Nk1wgL</td>\n",
       "      <td>0</td>\n",
       "      <td>Thu Jan 30 06:23:39 +0000 2020</td>\n",
       "      <td>POSITIVE</td>\n",
       "      <td>0.998991</td>\n",
       "    </tr>\n",
       "    <tr>\n",
       "      <th>625</th>\n",
       "      <td>Dow snaps five-day losing streak, rebounding from its worst day since October. Investors shift focus fromâ€¦ https://t.co/PonWxeS3cp</td>\n",
       "      <td>2</td>\n",
       "      <td>Wed Jan 29 01:30:50 +0000 2020</td>\n",
       "      <td>NEGATIVE</td>\n",
       "      <td>0.997698</td>\n",
       "    </tr>\n",
       "    <tr>\n",
       "      <th>626</th>\n",
       "      <td>Coronavirus infects Asia stocks with exposure to China https://t.co/vrROXHMi1X</td>\n",
       "      <td>0</td>\n",
       "      <td>Tue Jan 28 12:14:45 +0000 2020</td>\n",
       "      <td>NEGATIVE</td>\n",
       "      <td>0.998102</td>\n",
       "    </tr>\n",
       "    <tr>\n",
       "      <th>627</th>\n",
       "      <td>News agencies always ensure to get a suitable headlineðŸ˜…\\n\\nSensex dives 458 points on fears of coronavirus spread; Niâ€¦ https://t.co/NBho8ZOEr2</td>\n",
       "      <td>2</td>\n",
       "      <td>Mon Jan 27 16:21:07 +0000 2020</td>\n",
       "      <td>NEGATIVE</td>\n",
       "      <td>0.995008</td>\n",
       "    </tr>\n",
       "  </tbody>\n",
       "</table>\n",
       "<p>628 rows × 5 columns</p>\n",
       "</div>"
      ],
      "text/plain": [
       "                                                                                                                                                  tweets  \\\n",
       "0                         Panic Selling Increases Amid Fears of a Second Wave of Covid.\\n#COVID19 #nifty50 #bearish #StockMarket https://t.co/7VskYFcibb   \n",
       "1              #Karnataka chief minister is adding fuel to fire by suggesting that Karnataka Govt will also consider completeâ€¦ https://t.co/0JOnFwMJRt   \n",
       "2          @narendramodi ji and @AmitShah your this greed of power will take life of many doctors , health workers,  securityâ€¦ https://t.co/qInLaWmquf   \n",
       "3                               #Sensex experiencing the #Lockdown blues again. #BSE down 1300 points and #banknifty is down 4%. https://t.co/3JL2LB7Fg4   \n",
       "4         @satishjha @zoo_bear @DeccanHerald Why is there such a craze for Remsdesivir when all expert agencies, including WHâ€¦ https://t.co/cY1EpVeDQ6   \n",
       "..                                                                                                                                                   ...   \n",
       "623      Now is the time for @WHO to tell that the world is at stake with the new #Coronavirus #CoronavirusWho please donâ€™tâ€¦ https://t.co/OJg9zuv74G   \n",
       "624                   Mix your rock and desi persona with this Fusion lookðŸ’¢ðŸ’¢\\n#instafashion #fashionistas #fashionkillaâ€¦ https://t.co/DW61Nk1wgL   \n",
       "625                 Dow snaps five-day losing streak, rebounding from its worst day since October. Investors shift focus fromâ€¦ https://t.co/PonWxeS3cp   \n",
       "626                                                                       Coronavirus infects Asia stocks with exposure to China https://t.co/vrROXHMi1X   \n",
       "627  News agencies always ensure to get a suitable headlineðŸ˜…\\n\\nSensex dives 458 points on fears of coronavirus spread; Niâ€¦ https://t.co/NBho8ZOEr2   \n",
       "\n",
       "     likes                            time sentiment  confidence  \n",
       "0        0  Mon Apr 12 10:02:18 +0000 2021  NEGATIVE    0.940053  \n",
       "1        2  Mon Apr 12 10:01:14 +0000 2021  NEGATIVE    0.999161  \n",
       "2        0  Mon Apr 12 07:33:06 +0000 2021  POSITIVE    0.805817  \n",
       "3        3  Mon Apr 12 04:51:27 +0000 2021  NEGATIVE    0.921899  \n",
       "4        3  Mon Apr 12 04:42:57 +0000 2021  POSITIVE    0.884717  \n",
       "..     ...                             ...       ...         ...  \n",
       "623      0  Thu Jan 30 07:27:24 +0000 2020  NEGATIVE    0.642913  \n",
       "624      0  Thu Jan 30 06:23:39 +0000 2020  POSITIVE    0.998991  \n",
       "625      2  Wed Jan 29 01:30:50 +0000 2020  NEGATIVE    0.997698  \n",
       "626      0  Tue Jan 28 12:14:45 +0000 2020  NEGATIVE    0.998102  \n",
       "627      2  Mon Jan 27 16:21:07 +0000 2020  NEGATIVE    0.995008  \n",
       "\n",
       "[628 rows x 5 columns]"
      ]
     },
     "execution_count": 7,
     "metadata": {},
     "output_type": "execute_result"
    }
   ],
   "source": [
    "df"
   ]
  },
  {
   "cell_type": "code",
   "execution_count": 8,
   "metadata": {},
   "outputs": [],
   "source": [
    "df.to_csv (r'C:\\Users\\HP\\Google Drive\\export_sentiments.csv', header=True)"
   ]
  },
  {
   "cell_type": "code",
   "execution_count": null,
   "metadata": {},
   "outputs": [],
   "source": []
  }
 ],
 "metadata": {
  "kernelspec": {
   "display_name": "Python 3",
   "language": "python",
   "name": "python3"
  },
  "language_info": {
   "codemirror_mode": {
    "name": "ipython",
    "version": 3
   },
   "file_extension": ".py",
   "mimetype": "text/x-python",
   "name": "python",
   "nbconvert_exporter": "python",
   "pygments_lexer": "ipython3",
   "version": "3.8.5"
  }
 },
 "nbformat": 4,
 "nbformat_minor": 4
}
