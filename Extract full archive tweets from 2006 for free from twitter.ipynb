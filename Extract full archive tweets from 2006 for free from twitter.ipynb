{
 "cells": [
  {
   "cell_type": "code",
   "execution_count": 1,
   "metadata": {},
   "outputs": [],
   "source": [
    "!pip install TwitterAPI"
   ]
  },
  {
   "cell_type": "code",
   "execution_count": 2,
   "metadata": {},
   "outputs": [],
   "source": [
    "from TwitterAPI import TwitterAPI\n",
    "import pandas as pd"
   ]
  },
  {
   "cell_type": "code",
   "execution_count": 3,
   "metadata": {},
   "outputs": [],
   "source": [
    "API_KEY= \"aOwNUFDLdW9gjN7fFrXbGljRD\"\n",
    "API_KEY_SECRET= \"nTYhdCNCl0wDtsc9N7r2c9CTuWqx4oQByottHFrsm33Sadnenb\"\n",
    "ACCESS_TOKEN= \"841249221072232448-nX2ZsubsdrMrrLflZZSxvwagWfgwzfV\"\n",
    "ACCESS_TOKEN_SECRET=\"ZxpQDCX28JfWSORTMYSi7gCp4ZvpL4VjfGxkMYyDTBM6E\""
   ]
  },
  {
   "cell_type": "code",
   "execution_count": 4,
   "metadata": {},
   "outputs": [
    {
     "data": {
      "text/plain": [
       "<requests_oauthlib.oauth1_auth.OAuth1 at 0x25d3c15e520>"
      ]
     },
     "execution_count": 4,
     "metadata": {},
     "output_type": "execute_result"
    }
   ],
   "source": [
    "api = TwitterAPI(API_KEY, \n",
    "                 API_KEY_SECRET, \n",
    "                 ACCESS_TOKEN, \n",
    "                 ACCESS_TOKEN_SECRET)\n",
    "\n",
    "api.auth"
   ]
  },
  {
   "cell_type": "code",
   "execution_count": 5,
   "metadata": {},
   "outputs": [
    {
     "data": {
      "text/html": [
       "<div>\n",
       "<style scoped>\n",
       "    .dataframe tbody tr th:only-of-type {\n",
       "        vertical-align: middle;\n",
       "    }\n",
       "\n",
       "    .dataframe tbody tr th {\n",
       "        vertical-align: top;\n",
       "    }\n",
       "\n",
       "    .dataframe thead th {\n",
       "        text-align: right;\n",
       "    }\n",
       "</style>\n",
       "<table border=\"1\" class=\"dataframe\">\n",
       "  <thead>\n",
       "    <tr style=\"text-align: right;\">\n",
       "      <th></th>\n",
       "      <th>tweets</th>\n",
       "      <th>likes</th>\n",
       "      <th>time</th>\n",
       "    </tr>\n",
       "  </thead>\n",
       "  <tbody>\n",
       "    <tr>\n",
       "      <th>0</th>\n",
       "      <td>IT sector seems to be the top sector for 2021 ...</td>\n",
       "      <td>237</td>\n",
       "      <td>Mon Jan 11 09:31:43 +0000 2021</td>\n",
       "    </tr>\n",
       "    <tr>\n",
       "      <th>1</th>\n",
       "      <td>@VishalBhargava5 Just wait for couple of more ...</td>\n",
       "      <td>1</td>\n",
       "      <td>Sat Jan 09 19:25:45 +0000 2021</td>\n",
       "    </tr>\n",
       "    <tr>\n",
       "      <th>2</th>\n",
       "      <td>Lockdown...shutdown...covid19...Riots in US......</td>\n",
       "      <td>3</td>\n",
       "      <td>Sat Jan 09 02:17:44 +0000 2021</td>\n",
       "    </tr>\n",
       "    <tr>\n",
       "      <th>3</th>\n",
       "      <td>MARKET CLOSING COMMENT  Osho Krishan Sr Manage...</td>\n",
       "      <td>1</td>\n",
       "      <td>Tue Jan 05 14:09:52 +0000 2021</td>\n",
       "    </tr>\n",
       "    <tr>\n",
       "      <th>4</th>\n",
       "      <td>May touch before sliding to injure? https://t....</td>\n",
       "      <td>0</td>\n",
       "      <td>Mon Jan 04 12:41:33 +0000 2021</td>\n",
       "    </tr>\n",
       "    <tr>\n",
       "      <th>5</th>\n",
       "      <td>@nitin_gadkari If the MSP is higher then marke...</td>\n",
       "      <td>0</td>\n",
       "      <td>Mon Jan 04 03:50:15 +0000 2021</td>\n",
       "    </tr>\n",
       "  </tbody>\n",
       "</table>\n",
       "</div>"
      ],
      "text/plain": [
       "                                              tweets  likes  \\\n",
       "0  IT sector seems to be the top sector for 2021 ...    237   \n",
       "1  @VishalBhargava5 Just wait for couple of more ...      1   \n",
       "2  Lockdown...shutdown...covid19...Riots in US......      3   \n",
       "3  MARKET CLOSING COMMENT  Osho Krishan Sr Manage...      1   \n",
       "4  May touch before sliding to injure? https://t....      0   \n",
       "5  @nitin_gadkari If the MSP is higher then marke...      0   \n",
       "\n",
       "                             time  \n",
       "0  Mon Jan 11 09:31:43 +0000 2021  \n",
       "1  Sat Jan 09 19:25:45 +0000 2021  \n",
       "2  Sat Jan 09 02:17:44 +0000 2021  \n",
       "3  Tue Jan 05 14:09:52 +0000 2021  \n",
       "4  Mon Jan 04 12:41:33 +0000 2021  \n",
       "5  Mon Jan 04 03:50:15 +0000 2021  "
      ]
     },
     "execution_count": 5,
     "metadata": {},
     "output_type": "execute_result"
    }
   ],
   "source": [
    "SEARCH_TERM = '(coronavirus OR covid) (stockmarket OR sensex OR nifty OR stocks) place:India lang:en'\n",
    "PRODUCT = 'fullarchive'\n",
    "LABEL = 'fullArchiveTesting'\n",
    "\n",
    "tweets = []\n",
    "likes= []\n",
    "time = []\n",
    "\n",
    "r = api.request('tweets/search/%s/:%s' % (PRODUCT, LABEL), {'query': SEARCH_TERM,'fromDate': 202101010000,'toDate':202101142359})\n",
    "\n",
    "for item in r:\n",
    "    tweets.append(item['text']) \n",
    "    likes.append(item['favorite_count'])\n",
    "    time.append(item['created_at'])\n",
    "\n",
    "    \n",
    "df = pd.DataFrame({'tweets':tweets, 'likes':likes, 'time': time })\n",
    "df = df[~ df.tweets.str.contains(\"RT\")]\n",
    "df = df.reset_index(drop=True)\n",
    "df"
   ]
  },
  {
   "cell_type": "code",
   "execution_count": 6,
   "metadata": {
    "scrolled": true
   },
   "outputs": [],
   "source": [
    "df.to_csv (r'C:\\Users\\HP\\Google Drive\\export_dataframe1.csv', header=True)#file where data need to be stored"
   ]
  },
  {
   "cell_type": "code",
   "execution_count": null,
   "metadata": {},
   "outputs": [],
   "source": []
  },
  {
   "cell_type": "code",
   "execution_count": null,
   "metadata": {},
   "outputs": [],
   "source": []
  },
  {
   "cell_type": "code",
   "execution_count": null,
   "metadata": {},
   "outputs": [],
   "source": []
  }
 ],
 "metadata": {
  "kernelspec": {
   "display_name": "Python 3",
   "language": "python",
   "name": "python3"
  },
  "language_info": {
   "codemirror_mode": {
    "name": "ipython",
    "version": 3
   },
   "file_extension": ".py",
   "mimetype": "text/x-python",
   "name": "python",
   "nbconvert_exporter": "python",
   "pygments_lexer": "ipython3",
   "version": "3.8.5"
  }
 },
 "nbformat": 4,
 "nbformat_minor": 4
}
